{
  "nbformat": 4,
  "nbformat_minor": 0,
  "metadata": {
    "colab": {
      "provenance": [],
      "authorship_tag": "ABX9TyOocHDydNyfV/t+U24XTHxW",
      "include_colab_link": true
    },
    "kernelspec": {
      "name": "python3",
      "display_name": "Python 3"
    },
    "language_info": {
      "name": "python"
    }
  },
  "cells": [
    {
      "cell_type": "markdown",
      "metadata": {
        "id": "view-in-github",
        "colab_type": "text"
      },
      "source": [
        "<a href=\"https://colab.research.google.com/github/PriyanshuK2/Assignment-01-Python-Assignment/blob/main/Q22.ipynb\" target=\"_parent\"><img src=\"https://colab.research.google.com/assets/colab-badge.svg\" alt=\"Open In Colab\"/></a>"
      ]
    },
    {
      "cell_type": "code",
      "execution_count": 1,
      "metadata": {
        "colab": {
          "base_uri": "https://localhost:8080/"
        },
        "id": "xJKZsDnpz0_U",
        "outputId": "69bb0e83-462d-454d-a0ee-4a6b204072dc"
      },
      "outputs": [
        {
          "output_type": "stream",
          "name": "stdout",
          "text": [
            "Key=6 is not present in D\n"
          ]
        }
      ],
      "source": [
        "#Q2. D is a dictionary defined as D= {1:5.6, 2:7.8, 3:6.6, 4:8.7, 5:7.7}.\n",
        "#(i) To add new entry in D; key=8 and value is 8.8:\n",
        "D= {1:5.6, 2:7.8, 3:6.6, 4:8.7, 5:7.7}\n",
        "D[8] = 8.8\n",
        "#(ii) To remove key=2:\n",
        "del D[2]\n",
        "#(iii) To check whether key=6 is present in D:\n",
        "if 6 in D.keys():\n",
        "    print(\"Key=6 is present in D\")\n",
        "else:\n",
        "    print(\"Key=6 is not present in D\")\n",
        "#(iv) To count the number of elements present in D:\n",
        "len(D)\n",
        "#(v) To add all the values present D:\n",
        "sum(D.values())\n",
        "#(vi) To update the value of key=3 to 7.1:\n",
        "D[3] = 7.1\n",
        "#(vii) To clear the dictionary:\n",
        "D.clear()"
      ]
    }
  ]
}