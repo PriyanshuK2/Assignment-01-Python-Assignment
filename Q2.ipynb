Q2. D is a dictionary defined as D= {1:5.6, 2:7.8, 3:6.6, 4:8.7, 5:7.7}.
(i) To add new entry in D; key=8 and value is 8.8:
python
D[8] = 8.8

(ii) To remove key=2:
python
del D[2]

(iii) To check whether key=6 is present in D:
python
if 6 in D.keys():
    print("Key=6 is present in D")
else:
    print("Key=6 is not present in D")

(iv) To count the number of elements present in D:
python
len(D)

(v) To add all the values present D:
python
sum(D.values())

(vi) To update the value of key=3 to 7.1:
python
D[3] = 7.1

(vii) To clear the dictionary:
python
D.clear()
