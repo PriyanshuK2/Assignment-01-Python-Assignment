//Q1. L is a list defined as L= [11, 12, 13, 14].
//(i) To add 50 and 60 to L:
L.append(50)
L.append(60)
//(ii) To remove 11 and 13 from L:
L.remove(11)
L.remove(13)
//(iii) To sort L in ascending order:
L.sort()
//(iv) To sort L in descending order:
L.sort(reverse=True)
//(v) To search for 13 in L:
if 13 in L:
    print("13 is present in L")
else:
    print("13 is not present in L")
//(vi) To count the number of elements present in L:
len(L)
//(vii) To sum all the elements in L:
sum(L)
//(viii) To sum all ODD numbers in L:
sum([x for x in L if x % 2 == 1])
//(ix) To sum all EVEN numbers in L:
sum([x for x in L if x % 2 == 0])
//(x) To sum all PRIME numbers in L:
def is_prime(n):
    if n <= 1:
        return False
    for i in range(2, n):
        if n % i == 0:
            return False
    return True
sum([x for x in L if is_prime(x)])
//(xi) To clear all the elements in L:
L.clear()
//(xii) To delete L:
del L
